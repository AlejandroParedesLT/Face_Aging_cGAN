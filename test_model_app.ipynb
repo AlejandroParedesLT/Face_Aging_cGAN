{
 "cells": [
  {
   "cell_type": "markdown",
   "metadata": {},
   "source": [
    "# Alejandro Paredes La Torre,\n",
    "\n",
    "App to test the images"
   ]
  },
  {
   "cell_type": "code",
   "execution_count": null,
   "metadata": {},
   "outputs": [
    {
     "ename": "",
     "evalue": "",
     "output_type": "error",
     "traceback": [
      "\u001b[1;31mRunning cells with 'faceAging_venv36 (Python 3.6.0)' requires the ipykernel package.\n",
      "\u001b[1;31mRun the following command to install 'ipykernel' into the Python environment. \n",
      "\u001b[1;31mCommand: '\"c:/Users/ALEJANDRO/Documents/5. Programming/.virtualenvs/faceAging_venv36/Scripts/python.exe\" -m pip install ipykernel -U --force-reinstall'"
     ]
    }
   ],
   "source": [
    "# Import necessary modules\n",
    "import os\n",
    "import numpy as np\n",
    "import tensorflow.compat.v1 as tf\n",
    "from test import generate_images_from_folder, FaceAging  # Import from test.py\n",
    "from tools.utils import save_images, save_source\n",
    "from tools.data_generator import ImageDataGenerator\n",
    "import matplotlib.pyplot as plt\n",
    "\n",
    "# Disable eager execution for TensorFlow v1 compatibility\n",
    "tf.disable_eager_execution()\n",
    "\n",
    "# Configure environment variables for GPU usage\n",
    "os.environ['CUDA_DEVICES_ORDER'] = \"PCI_BUS_ID\"\n",
    "os.environ[\"CUDA_VISIBLE_DEVICES\"] = '0'  # Adjust based on your GPU availability\n",
    "\n",
    "# Define constants (adjust as needed)\n",
    "batch_size = 1  # Only process one image at a time\n",
    "image_size = 128\n",
    "noise_dim = 256\n",
    "checkpoint_dir = './checkpoints/load_pe/'  # Path to your trained model checkpoints\n",
    "save_dir = './generated_images/'  # Directory for saving generated images\n",
    "test_image_path = r\"D:\\temporal_CV\\1. AIPI 590 - Computer Vision\\assignment\\3. third_project\\wiki_preprocess\\wiki\\74\\10016074_1987-07-27_2012.jpg\"  # Path to the individual test image\n",
    "\n",
    "# Configure TensorFlow session\n",
    "config = tf.ConfigProto()\n",
    "config.gpu_options.allow_growth = True\n",
    "\n",
    "# Initialize the data generator\n",
    "val_generator = ImageDataGenerator(\n",
    "    batch_size=batch_size,\n",
    "    height=image_size,\n",
    "    width=image_size,\n",
    "    z_dim=noise_dim,\n",
    "    scale_size=(image_size, image_size),\n",
    "    shuffle=False,\n",
    "    mode='test'\n",
    ")\n",
    "\n",
    "# Function to process and plot individual images\n",
    "def generate_and_plot_single_image(image_path):\n",
    "    # Initialize TensorFlow graph and session\n",
    "    with tf.Graph().as_default():\n",
    "        sess = tf.Session(config=config)\n",
    "\n",
    "        # Initialize the model\n",
    "        model = FaceAging(\n",
    "            sess=sess,\n",
    "            lr=0.001,\n",
    "            keep_prob=1.0,\n",
    "            model_num=None,\n",
    "            batch_size=batch_size,\n",
    "            age_loss_weight=1.0,\n",
    "            gan_loss_weight=1.0,\n",
    "            fea_loss_weight=1.0,\n",
    "            tv_loss_weight=1.0\n",
    "        )\n",
    "\n",
    "        # Define placeholders for the input image and labels\n",
    "        model.imgs = tf.placeholder(tf.float32, [batch_size, image_size, image_size, 3])\n",
    "        model.true_label_features_128 = tf.placeholder(\n",
    "            tf.float32, [batch_size, image_size, image_size, 5]\n",
    "        )\n",
    "\n",
    "        # Define the generator operation\n",
    "        model.ge_samples = model.generate_images(\n",
    "            model.imgs, model.true_label_features_128, stable_bn=False, mode='test'\n",
    "        )\n",
    "\n",
    "        # Load model variables\n",
    "        model.get_vars()\n",
    "        model.saver = tf.train.Saver(model.save_g_vars)\n",
    "        sess.run(tf.global_variables_initializer())\n",
    "\n",
    "        # Load the pre-trained model\n",
    "        if model.load(checkpoint_dir, model.saver, 'acgan', 399999):\n",
    "            print(\"Model loaded successfully.\")\n",
    "        else:\n",
    "            print(\"Model loading failed.\")\n",
    "            return\n",
    "\n",
    "        # Process the single image\n",
    "        source, paths = val_generator.load_imgs(image_path, 128)\n",
    "        temp = np.reshape(source[0], (1, image_size, image_size, 3))\n",
    "\n",
    "        # Generate the image\n",
    "        for j in range(1, val_generator.n_classes):\n",
    "            true_label_fea = val_generator.label_features_128[j]\n",
    "            feed_dict = {\n",
    "                model.imgs: temp,\n",
    "                model.true_label_features_128: true_label_fea,\n",
    "            }\n",
    "            samples = sess.run(model.ge_samples, feed_dict=feed_dict)\n",
    "\n",
    "            # Save the generated image\n",
    "            output_path = os.path.join(save_dir, f'single_image_{j}.jpg')\n",
    "            save_images(samples, [1, 1], output_path)\n",
    "\n",
    "            # Display the image\n",
    "            print(f\"Generated image saved to: {output_path}\")\n",
    "            plt.imshow(samples[0])\n",
    "            plt.axis('off')\n",
    "            plt.show()\n",
    "\n",
    "# Run the function for the single image\n",
    "generate_and_plot_single_image(test_image_path)"
   ]
  },
  {
   "cell_type": "code",
   "execution_count": null,
   "metadata": {},
   "outputs": [
    {
     "ename": "",
     "evalue": "",
     "output_type": "error",
     "traceback": [
      "\u001b[1;31mRunning cells with 'faceAging_venv36 (Python 3.6.0)' requires the ipykernel package.\n",
      "\u001b[1;31mRun the following command to install 'ipykernel' into the Python environment. \n",
      "\u001b[1;31mCommand: '\"c:/Users/ALEJANDRO/Documents/5. Programming/.virtualenvs/faceAging_venv36/Scripts/python.exe\" -m pip install ipykernel -U --force-reinstall'"
     ]
    }
   ],
   "source": [
    "!\"c:/Users/ALEJANDRO/Documents/5. Programming/.virtualenvs/faceAging_venv36/Scripts/python.exe\" -m pip install ipykernel -U --force-reinstall'"
   ]
  }
 ],
 "metadata": {
  "kernelspec": {
   "display_name": "faceAging_venv36",
   "language": "python",
   "name": "python3"
  },
  "language_info": {
   "codemirror_mode": {
    "name": "ipython",
    "version": 3
   },
   "file_extension": ".py",
   "mimetype": "text/x-python",
   "name": "python",
   "nbconvert_exporter": "python",
   "pygments_lexer": "ipython3",
   "version": "3.6.0"
  }
 },
 "nbformat": 4,
 "nbformat_minor": 2
}
